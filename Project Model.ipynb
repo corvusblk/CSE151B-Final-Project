{
 "cells": [
  {
   "attachments": {},
   "cell_type": "markdown",
   "metadata": {},
   "source": [
    "## Data Loader\n",
    "\n",
    "### for future: Multistep (60 step) predictions"
   ]
  },
  {
   "cell_type": "code",
   "execution_count": 19,
   "metadata": {},
   "outputs": [],
   "source": [
    "import torch\n",
    "import torchvision\n",
    "import torchvision.transforms as transforms\n",
    "import numpy as np\n",
    "import pandas as pd"
   ]
  },
  {
   "attachments": {},
   "cell_type": "markdown",
   "metadata": {},
   "source": [
    "### Creating Custom Dataset"
   ]
  },
  {
   "cell_type": "code",
   "execution_count": 20,
   "metadata": {},
   "outputs": [],
   "source": [
    "from torch.utils.data import Dataset"
   ]
  },
  {
   "attachments": {},
   "cell_type": "markdown",
   "metadata": {},
   "source": [
    "#### Final pre-process (creating dummy variables)"
   ]
  },
  {
   "cell_type": "code",
   "execution_count": 22,
   "metadata": {},
   "outputs": [],
   "source": [
    "# TODO implement random selection\n",
    "\n",
    "class ProjectDataset(Dataset):\n",
    "    def __init__(self, data_dir, train_split=1.0, is_test=False, is_validation=False,  transform=None, target_transform=None):\n",
    "        self.data_dir = data_dir\n",
    "        self.data = pd.read_csv(data_dir)\n",
    "        self.transform = transform\n",
    "        self.target_transform = target_transform\n",
    "        self.train_split = train_split\n",
    "        self.is_test = is_test\n",
    "        self.is_validation = is_validation\n",
    "\n",
    "        # make categorical\n",
    "        for column in self.data.columns:\n",
    "            self.data[column] = self.data[column].astype('category')\n",
    "            \n",
    "        if self.is_test == False:\n",
    "            # slice data to non-test set\n",
    "            self.data = self.data.iloc[0:1558116]\n",
    "            # randomize and slice data appropriately\n",
    "            np.random.seed(11020)\n",
    "            self.data = self.data.iloc[np.random.permutation(self.data.index)].reset_index(drop=True)\n",
    "            slice_ix = int(len(self.data) * train_split //1)\n",
    "            if self.is_validation == True:\n",
    "                self.data = self.data[slice_ix:]\n",
    "            else:\n",
    "                self.data = self.data[:slice_ix]\n",
    "\n",
    "        else:\n",
    "            # test set, no need to sample\n",
    "            self.data = self.data.iloc[1558116:1558116+320]\n",
    "\n",
    "        self.features = self.data.iloc[:,:6]\n",
    "        self.labels = self.data.iloc[:,6]\n",
    "\n",
    "        # convert features to dummy variables\n",
    "        for i in range(0,3):\n",
    "            #if i == 2:  # need to rework features, this bypasses taxi_id entirely\n",
    "            #   continue\n",
    "            dummies = pd.get_dummies(self.features.iloc[:,i])\n",
    "            self.features = pd.concat([self.features, dummies], axis=1)\n",
    "        self.features = self.features.drop(['CALL_TYPE', 'ORIGIN', 'TAXI_ID', 'MON', 'HR', 'WK'], axis=1)\n",
    "\n",
    "    def __len__(self):\n",
    "        return len(self.labels)\n",
    "    \n",
    "    def __getitem__(self, idx):\n",
    "        feature = torch.Tensor((np.array(self.features.iloc(axis=0)[idx])))\n",
    "        label = torch.tensor(self.labels.iloc[idx]).float()\n",
    "        if self.is_test == True:\n",
    "            label = torch.tensor(0).float()\n",
    "        if self.transform:\n",
    "            feature = self.transform(feature)\n",
    "        if self.target_transform:\n",
    "            label = self.target_transform(label)\n",
    "            \n",
    "        return feature, label"
   ]
  },
  {
   "attachments": {},
   "cell_type": "markdown",
   "metadata": {},
   "source": [
    "### Creating custom DataLoader"
   ]
  },
  {
   "cell_type": "code",
   "execution_count": 23,
   "metadata": {},
   "outputs": [],
   "source": [
    "batch_size = 2**14\n",
    "\n",
    "trainset = ProjectDataset(data_dir='./data/all_data.csv', train_split=1) # consider custom normalize approach for data\n",
    "validset = ProjectDataset(data_dir='./data/all_data.csv', train_split=0.8, is_validation=True)\n",
    "\n",
    "train_dataloader = torch.utils.data.DataLoader(trainset, batch_size=batch_size, shuffle=True, num_workers=2, persistent_workers=True)\n",
    "valid_dataloader = torch.utils.data.DataLoader(validset, batch_size=batch_size, shuffle=True, num_workers=2, persistent_workers=True)"
   ]
  },
  {
   "attachments": {},
   "cell_type": "markdown",
   "metadata": {},
   "source": [
    "## Define Our Neural Network"
   ]
  },
  {
   "cell_type": "code",
   "execution_count": 24,
   "metadata": {},
   "outputs": [
    {
     "data": {
      "text/plain": [
       "'NVIDIA GeForce GTX 1080 Ti'"
      ]
     },
     "execution_count": 24,
     "metadata": {},
     "output_type": "execute_result"
    }
   ],
   "source": [
    "device = (\"cuda\" if torch.cuda.is_available() else \"cpu\")\n",
    "torch.cuda.get_device_name()"
   ]
  },
  {
   "cell_type": "code",
   "execution_count": 25,
   "metadata": {},
   "outputs": [],
   "source": [
    "import torch.nn as nn\n",
    "import torch.nn.functional as F\n",
    "\n",
    "class ProjectNet(nn.Module):\n",
    "    def __init__(self, dropout_p, feat_dim):\n",
    "        super().__init__()\n",
    "        self.model = nn.Sequential(\n",
    "            nn.Linear(feat_dim, feat_dim),\n",
    "            nn.ReLU(),\n",
    "            nn.Dropout(p=dropout_p),\n",
    "            nn.Linear(feat_dim, 512),\n",
    "            nn.ReLU(),\n",
    "            nn.Dropout(p=dropout_p),\n",
    "            nn.Linear(512, 512),\n",
    "            nn.ReLU(),\n",
    "            nn.Dropout(p=dropout_p),\n",
    "            nn.Linear(512, 128),\n",
    "            nn.ReLU(),\n",
    "            nn.Dropout(p=dropout_p),\n",
    "            nn.Linear(128, 128),\n",
    "            nn.ReLU(),\n",
    "            nn.Dropout(p=dropout_p),\n",
    "            nn.Linear(128, 32),\n",
    "            nn.ReLU(),\n",
    "            nn.Dropout(p=dropout_p),\n",
    "            nn.Linear(32, 1),\n",
    "        )\n",
    "\n",
    "    def forward(self, x):\n",
    "        out = self.model(x)\n",
    "        \n",
    "        return out"
   ]
  },
  {
   "attachments": {},
   "cell_type": "markdown",
   "metadata": {},
   "source": [
    "## Training the Network"
   ]
  },
  {
   "cell_type": "code",
   "execution_count": 26,
   "metadata": {},
   "outputs": [],
   "source": [
    "import torch.optim as optim\n",
    "import time"
   ]
  },
  {
   "cell_type": "code",
   "execution_count": 27,
   "metadata": {},
   "outputs": [],
   "source": [
    "def run_epoch(epoch_count, net, validate=False):\n",
    "    criterion = nn.L1Loss()\n",
    "    optimizer = optim.Adam(net.parameters(), lr=1e-3)\n",
    "    prev_valid_loss = 1e10   # arbitrarily high value so first iteration completes\n",
    "    losses = pd.DataFrame(columns=['Epoch', 'Train loss', 'Valid loss'])    # data frame to carry train/validation statistics\n",
    "    for epoch in range(epoch_count):  # loop over the dataset multiple times\n",
    "        time_start = time.perf_counter()\n",
    "        for i in range(40):\n",
    "            print('-',end=\"\")\n",
    "        print()\n",
    "        print(\"Epoch: \", epoch+1, \"/\", epoch_count)\n",
    "        for i in range(40):\n",
    "            print('-',end=\"\")\n",
    "        print()\n",
    "        \n",
    "        running_loss = 0.0\n",
    "        # Training epoch cycle and loss\n",
    "        for i, data in enumerate(train_dataloader, 0):\n",
    "            # get the inputs; data is a list of [inputs, labels]\n",
    "            inputs, labels = data[0].to(device), data[1].to(device)\n",
    "            # zero the parameter gradients\n",
    "            optimizer.zero_grad()\n",
    "            # forward + backward + optimize\n",
    "            outputs = net(inputs)\n",
    "            loss = criterion(outputs.squeeze(), labels.squeeze())\n",
    "            loss.backward()\n",
    "            optimizer.step()\n",
    "\n",
    "            # print statistics\n",
    "            running_loss += loss.item()\n",
    "            ppe = 5     # ppe: print per epoch, number of time to print data per epoch of training\n",
    "            iter_count = int(len(trainset)/batch_size/ppe)\n",
    "            if i % iter_count == iter_count - ppe:    # print exactly `ppe` times per epoch of training\n",
    "                train_loss = running_loss / iter_count\n",
    "                df_entry = pd.DataFrame({'Epoch': epoch, 'Train loss': train_loss, 'Valid loss': None,\n",
    "                                         'Elapsed time': (time.perf_counter() - time_start)}, index=[1])\n",
    "                losses = pd.concat([losses, df_entry], axis=0, ignore_index=True)\n",
    "                print(f'[{epoch + 1}, {i + 1:5d}] Training loss: {train_loss:.3f}')\n",
    "                running_loss = 0.0\n",
    "        \n",
    "        # Validation cycle and loss calculation\n",
    "        if validate == True:\n",
    "            running_valid_loss = []\n",
    "            for i, val_data in enumerate(valid_dataloader, 0):\n",
    "                inputs, labels = val_data[0].to(device), val_data[1].to(device)\n",
    "                with torch.no_grad():\n",
    "                    outputs = net(inputs)\n",
    "                    valid_loss = criterion(outputs.squeeze(), labels.squeeze())\n",
    "                    running_valid_loss.append(valid_loss.item())\n",
    "            valid_loss = sum(running_valid_loss) / len(running_valid_loss)\n",
    "            losses.iat[-1, losses.columns.get_loc('Valid loss')] = valid_loss\n",
    "            print(f'\\n[{epoch + 1}] Validation loss:  {valid_loss:.3f}')\n",
    "            if (valid_loss > prev_valid_loss):\n",
    "                print(f\"\\nEarly Stopping!\\nEpoch over epoch validation loss increased :  {valid_loss:.3f} > {prev_valid_loss:.3f}\")\n",
    "                break\n",
    "            prev_valid_loss = valid_loss\n",
    "            \n",
    "        \n",
    "    print('Finished Training')\n",
    "    return losses"
   ]
  },
  {
   "cell_type": "code",
   "execution_count": 123,
   "metadata": {},
   "outputs": [],
   "source": [
    "df.to_pickle('drop_out 0.3 3 epochs.pkl')"
   ]
  },
  {
   "cell_type": "code",
   "execution_count": 28,
   "metadata": {},
   "outputs": [
    {
     "name": "stdout",
     "output_type": "stream",
     "text": [
      "Total parameter count: 3390119\n",
      "----------------------------------------\n",
      "Epoch:  1 / 3\n",
      "----------------------------------------\n",
      "[1,    15] Training loss: 563.278\n",
      "[1,    34] Training loss: 460.158\n",
      "[1,    53] Training loss: 328.166\n",
      "[1,    72] Training loss: 309.889\n",
      "[1,    91] Training loss: 306.065\n",
      "\n",
      "[1] Validation loss:  303.537\n",
      "----------------------------------------\n",
      "Epoch:  2 / 3\n",
      "----------------------------------------\n",
      "[2,    15] Training loss: 238.523\n",
      "[2,    34] Training loss: 299.290\n",
      "[2,    53] Training loss: 296.968\n",
      "[2,    72] Training loss: 296.963\n",
      "[2,    91] Training loss: 296.987\n",
      "\n",
      "[2] Validation loss:  295.488\n",
      "----------------------------------------\n",
      "Epoch:  3 / 3\n",
      "----------------------------------------\n",
      "[3,    15] Training loss: 233.919\n",
      "[3,    34] Training loss: 295.509\n",
      "[3,    53] Training loss: 295.990\n",
      "[3,    72] Training loss: 295.323\n",
      "[3,    91] Training loss: 294.794\n",
      "\n",
      "[3] Validation loss:  295.705\n",
      "\n",
      "Early Stopping!\n",
      "Epoch over epoch validation loss increased :  295.705 > 295.488\n",
      "Finished Training\n"
     ]
    }
   ],
   "source": [
    "dropout_perc = [0.3]\n",
    "df = pd.DataFrame(columns=['Epoch', 'Train loss', 'Valid loss', 'Dropout %'])\n",
    "for i in range(len(dropout_perc)):\n",
    "    net=ProjectNet(dropout_perc[i], trainset[0][0].shape[0]).to(device)  # check modules and send to CUDA\n",
    "    print(f\"Total parameter count: {sum(p.numel()for p in net.parameters())}\")\n",
    "    df_add = run_epoch(epoch_count=3, net=net, validate=True)\n",
    "    df_add.loc[:, 'Dropout %'] = dropout_perc[i]\n",
    "    df = pd.concat([df, df_add], axis=0, ignore_index=True)"
   ]
  },
  {
   "cell_type": "code",
   "execution_count": 29,
   "metadata": {},
   "outputs": [],
   "source": [
    "import matplotlib.pyplot as plt\n",
    "import seaborn as sns"
   ]
  },
  {
   "cell_type": "code",
   "execution_count": 113,
   "metadata": {},
   "outputs": [],
   "source": [
    "df = pd.read_pickle('dropout_test.pkl')"
   ]
  },
  {
   "cell_type": "code",
   "execution_count": 119,
   "metadata": {},
   "outputs": [
    {
     "data": {
      "image/png": "[encoded data removed]",
      "text/plain": [
       "<Figure size 905.972x500 with 1 Axes>"
      ]
     },
     "metadata": {},
     "output_type": "display_data"
    }
   ],
   "source": [
    "df_plt = df.dropna()\n",
    "sns.set(style='ticks')\n",
    "_dropouts = [0.3, 0.4, 0.5, 0.6, 0.7]\n",
    "ax = sns.relplot(data=df_plt, x='Epoch', y='Valid loss', hue='Dropout %', hue_order=_dropouts, aspect=1.61, kind='scatter')\n",
    "#ax.fig.axes[0].invert_yaxis()\n",
    "plt.show(ax)"
   ]
  },
  {
   "attachments": {},
   "cell_type": "markdown",
   "metadata": {},
   "source": [
    "### Saving our model"
   ]
  },
  {
   "cell_type": "code",
   "execution_count": 30,
   "metadata": {},
   "outputs": [],
   "source": [
    "PATH = './model/proj_model_4.pth' # next save"
   ]
  },
  {
   "cell_type": "code",
   "execution_count": 31,
   "metadata": {},
   "outputs": [],
   "source": [
    "torch.save(net.state_dict(), PATH)"
   ]
  },
  {
   "attachments": {},
   "cell_type": "markdown",
   "metadata": {},
   "source": [
    "### Loading our model"
   ]
  },
  {
   "cell_type": "code",
   "execution_count": 10,
   "metadata": {},
   "outputs": [],
   "source": [
    "PATH = './model/proj_model_2.pth' # previous save"
   ]
  },
  {
   "cell_type": "code",
   "execution_count": 14,
   "metadata": {},
   "outputs": [],
   "source": [
    "dropout_perc = 0    # !! DISABLE drop out for testing\n",
    "net2 = ProjectNet(dropout_perc, trainset[0][0].shape[0]).to(device)"
   ]
  },
  {
   "cell_type": "code",
   "execution_count": 15,
   "metadata": {},
   "outputs": [
    {
     "data": {
      "text/plain": [
       "ProjectNet(\n",
       "  (model): Sequential(\n",
       "    (0): Linear(in_features=1110, out_features=1110, bias=True)\n",
       "    (1): ReLU()\n",
       "    (2): Dropout(p=0, inplace=False)\n",
       "    (3): Linear(in_features=1110, out_features=512, bias=True)\n",
       "    (4): ReLU()\n",
       "    (5): Dropout(p=0, inplace=False)\n",
       "    (6): Linear(in_features=512, out_features=512, bias=True)\n",
       "    (7): ReLU()\n",
       "    (8): Dropout(p=0, inplace=False)\n",
       "    (9): Linear(in_features=512, out_features=128, bias=True)\n",
       "    (10): ReLU()\n",
       "    (11): Dropout(p=0, inplace=False)\n",
       "    (12): Linear(in_features=128, out_features=128, bias=True)\n",
       "    (13): ReLU()\n",
       "    (14): Dropout(p=0, inplace=False)\n",
       "    (15): Linear(in_features=128, out_features=32, bias=True)\n",
       "    (16): ReLU()\n",
       "    (17): Dropout(p=0, inplace=False)\n",
       "    (18): Linear(in_features=32, out_features=1, bias=True)\n",
       "  )\n",
       ")"
      ]
     },
     "execution_count": 15,
     "metadata": {},
     "output_type": "execute_result"
    }
   ],
   "source": [
    "net2.load_state_dict(torch.load(PATH))\n",
    "net2.to(device)"
   ]
  },
  {
   "attachments": {},
   "cell_type": "markdown",
   "metadata": {},
   "source": [
    "## Testing our Model"
   ]
  },
  {
   "cell_type": "code",
   "execution_count": 16,
   "metadata": {},
   "outputs": [],
   "source": [
    "batch_size = 320\n",
    "\n",
    "testset = ProjectDataset(data_dir='./data/all_data.csv', train_split=(1), is_test=True) # consider custom normalize approach for data\n",
    "\n",
    "test_dataloader = torch.utils.data.DataLoader(testset, batch_size=batch_size,\n",
    "                                                shuffle=False, num_workers=1)"
   ]
  },
  {
   "cell_type": "code",
   "execution_count": 17,
   "metadata": {},
   "outputs": [],
   "source": [
    "with torch.no_grad():\n",
    "    for data in test_dataloader:\n",
    "        features = data[0].to(device)\n",
    "        outputs = net2(features)\n",
    "\n",
    "outputs = outputs.detach().cpu().numpy()\n",
    "outputs = (outputs / 15).round() * 15\n",
    "out_data = outputs"
   ]
  },
  {
   "cell_type": "code",
   "execution_count": 18,
   "metadata": {},
   "outputs": [],
   "source": [
    "# final rounding\n",
    "out_data = np.array(out_data)\n",
    "to_export = pd.read_csv('./data/test_public.csv')\n",
    "to_export['TRAVEL_TIME'] = pd.DataFrame(out_data)\n",
    "to_export = to_export.loc[:,['TRIP_ID', 'TRAVEL_TIME']]\n",
    "to_export.to_csv('./data/predictions.csv', index=False)"
   ]
  }
 ],
 "metadata": {
  "kernelspec": {
   "display_name": "Python 3",
   "language": "python",
   "name": "python3"
  },
  "language_info": {
   "codemirror_mode": {
    "name": "ipython",
    "version": 3
   },
   "file_extension": ".py",
   "mimetype": "text/x-python",
   "name": "python",
   "nbconvert_exporter": "python",
   "pygments_lexer": "ipython3",
   "version": "3.10.9"
  },
  "orig_nbformat": 4
 },
 "nbformat": 4,
 "nbformat_minor": 2
}
