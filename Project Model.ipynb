{
 "cells": [
  {
   "attachments": {},
   "cell_type": "markdown",
   "metadata": {},
   "source": [
    "## Data Loader"
   ]
  },
  {
   "cell_type": "code",
   "execution_count": 117,
   "metadata": {},
   "outputs": [],
   "source": [
    "import torch\n",
    "import torchvision\n",
    "import torchvision.transforms as transforms\n",
    "import numpy as np\n",
    "import pandas as pd"
   ]
  },
  {
   "attachments": {},
   "cell_type": "markdown",
   "metadata": {},
   "source": [
    "### Creating Custom Dataset"
   ]
  },
  {
   "cell_type": "code",
   "execution_count": 118,
   "metadata": {},
   "outputs": [],
   "source": [
    "from torch.utils.data import Dataset"
   ]
  },
  {
   "attachments": {},
   "cell_type": "markdown",
   "metadata": {},
   "source": [
    "#### Final pre-process (creating dummy variables)"
   ]
  },
  {
   "cell_type": "code",
   "execution_count": 142,
   "metadata": {},
   "outputs": [],
   "source": [
    "# TODO implement random selection\n",
    "\n",
    "class ProjectDataset(Dataset):\n",
    "    def __init__(self, data_dir, data_perc=1, is_test=False,  transform=None, target_transform=None):\n",
    "        self.data_dir = data_dir\n",
    "        self.data = pd.read_csv(data_dir)\n",
    "        self.transform = transform\n",
    "        self.target_transform = target_transform\n",
    "        self.data_perc = data_perc\n",
    "        self.is_test=is_test\n",
    "\n",
    "        # make categorical\n",
    "        for column in self.data.columns:\n",
    "            self.data[column] = self.data[column].astype('category')\n",
    "            \n",
    "        if self.is_test == False:\n",
    "            # take a percentage sample of total data\n",
    "            self.data = self.data.iloc[0:1558116]\n",
    "            self.data = self.data.sample(int(len(self.data) * data_perc //1))\n",
    "        else:\n",
    "            # test set, no need to sample\n",
    "            self.data = self.data.iloc[1558116:1558116+320]\n",
    "\n",
    "        self.features = self.data.iloc[:,:6]\n",
    "        self.labels = self.data.iloc[:,6]\n",
    "\n",
    "        # convert features to dummy variables\n",
    "        for i in range(0,6):\n",
    "            if i == 2:  # need to rework features, this bypasses taxi_id entirely\n",
    "               continue\n",
    "            dummies = pd.get_dummies(self.features.iloc[:,i])\n",
    "            self.features = pd.concat([self.features, dummies], axis=1)\n",
    "        self.features = self.features.drop(['CALL_TYPE', 'ORIGIN', 'TAXI_ID', 'MON', 'HR', 'WK'], axis=1)\n",
    "\n",
    "    def __len__(self):\n",
    "        return len(self.labels)\n",
    "    \n",
    "    def __getitem__(self, idx):\n",
    "        feature = torch.Tensor((np.array(self.features.iloc(axis=0)[idx])))\n",
    "        label = torch.tensor(self.labels.iloc[idx]).float()\n",
    "        if self.is_test == True:\n",
    "            label = torch.tensor(0).float()\n",
    "        if self.transform:\n",
    "            feature = self.transform(feature)\n",
    "        if self.target_transform:\n",
    "            label = self.target_transform(label)\n",
    "            \n",
    "        return feature, label"
   ]
  },
  {
   "attachments": {},
   "cell_type": "markdown",
   "metadata": {},
   "source": [
    "### Creating custom DataLoader"
   ]
  },
  {
   "cell_type": "code",
   "execution_count": 96,
   "metadata": {},
   "outputs": [],
   "source": [
    "batch_size = 2**14\n",
    "\n",
    "trainset = ProjectDataset(data_dir='./data/all_data.csv', data_perc=(1), is_test=False) # consider custom normalize approach for data\n",
    "\n",
    "train_dataloader = torch.utils.data.DataLoader(trainset, batch_size=batch_size,\n",
    "                                                shuffle=True, num_workers=2)"
   ]
  },
  {
   "attachments": {},
   "cell_type": "markdown",
   "metadata": {},
   "source": [
    "## Define Our Neural Network"
   ]
  },
  {
   "cell_type": "code",
   "execution_count": 97,
   "metadata": {},
   "outputs": [
    {
     "data": {
      "text/plain": [
       "'NVIDIA GeForce GTX 1080 Ti'"
      ]
     },
     "execution_count": 97,
     "metadata": {},
     "output_type": "execute_result"
    }
   ],
   "source": [
    "device = (\"cuda\" if torch.cuda.is_available() else \"cpu\")\n",
    "torch.cuda.get_device_name()"
   ]
  },
  {
   "cell_type": "code",
   "execution_count": 98,
   "metadata": {},
   "outputs": [],
   "source": [
    "import torch.nn as nn\n",
    "import torch.nn.functional as F\n",
    "\n",
    "class ProjectNet(nn.Module):\n",
    "    def __init__(self, dropout_p, feat_dim):\n",
    "        super().__init__()\n",
    "        self.model = nn.Sequential(\n",
    "            nn.Linear(feat_dim, feat_dim),\n",
    "            nn.ReLU(),\n",
    "            nn.Dropout(p=dropout_p),\n",
    "            nn.Linear(feat_dim, 512),\n",
    "            nn.ReLU(),\n",
    "            nn.Dropout(p=dropout_p),\n",
    "            nn.Linear(512, 512),\n",
    "            nn.ReLU(),\n",
    "            nn.Dropout(p=dropout_p),\n",
    "            nn.Linear(512, 128),\n",
    "            nn.ReLU(),\n",
    "            nn.Dropout(p=dropout_p),\n",
    "            nn.Linear(128, 128),\n",
    "            nn.ReLU(),\n",
    "            nn.Dropout(p=dropout_p),\n",
    "            nn.Linear(128, 32),\n",
    "            nn.ReLU(),\n",
    "            nn.Dropout(p=dropout_p),\n",
    "            nn.Linear(32, 1),\n",
    "        )\n",
    "\n",
    "    def forward(self, x):\n",
    "        out = self.model(x)\n",
    "        \n",
    "        return out"
   ]
  },
  {
   "attachments": {},
   "cell_type": "markdown",
   "metadata": {},
   "source": [
    "## Training the Network"
   ]
  },
  {
   "cell_type": "code",
   "execution_count": 99,
   "metadata": {},
   "outputs": [],
   "source": [
    "import torch.optim as optim"
   ]
  },
  {
   "cell_type": "code",
   "execution_count": 277,
   "metadata": {},
   "outputs": [],
   "source": [
    "def run_epoch(epoch_count, net):\n",
    "    criterion = nn.L1Loss()\n",
    "    optimizer = optim.Adam(net.parameters(), lr=1e-3)\n",
    "    prev_loss = 1e10   # arbitrarily high value so first iteration completes\n",
    "\n",
    "    for epoch in range(epoch_count):  # loop over the dataset multiple times\n",
    "        for i in range(40):\n",
    "            print('-',end=\"\")\n",
    "        print()\n",
    "        print(\"Epoch: \", epoch+1, \"/\", epoch_count)\n",
    "        for i in range(40):\n",
    "            print('-',end=\"\")\n",
    "        print()\n",
    "        \n",
    "        running_loss = 0.0\n",
    "        total_loss = 0.0\n",
    "        for i, data in enumerate(train_dataloader, 0):\n",
    "            # get the inputs; data is a list of [inputs, labels]\n",
    "            inputs, labels = data[0].to(device), data[1].to(device)\n",
    "            # zero the parameter gradients\n",
    "            optimizer.zero_grad()\n",
    "            # forward + backward + optimize\n",
    "            outputs = net(inputs)\n",
    "            loss = criterion(outputs.squeeze(), labels.squeeze())\n",
    "            loss.backward()\n",
    "            optimizer.step()\n",
    "\n",
    "            # print statistics\n",
    "            running_loss += loss.item()\n",
    "            total_loss += loss.item()\n",
    "            ppe = 5     # ppe: print per epoch, number of time to print data per epoch of training\n",
    "            iter_count = int(len(trainset)/batch_size/ppe)\n",
    "            if i % iter_count == iter_count - ppe:    # print exactly `ppe` times per epoch of training\n",
    "                print(f'[{epoch + 1}, {i + 1:5d}] loss: {running_loss / iter_count:.3f}')\n",
    "                running_loss = 0.0\n",
    "        if (total_loss > prev_loss):\n",
    "            print(f\"\\nEarly Stopping!\\nEpoch over epoch loss increased: {total_loss/i:.3f} > {prev_loss/i:.3f}\")\n",
    "            break\n",
    "        prev_loss = total_loss\n",
    "    print('Finished Training')"
   ]
  },
  {
   "cell_type": "code",
   "execution_count": 101,
   "metadata": {},
   "outputs": [
    {
     "name": "stdout",
     "output_type": "stream",
     "text": [
      "Total parameter count: 2151035\n",
      "----------------------------------------\n",
      "Epoch:  1 / 20\n",
      "----------------------------------------\n",
      "[1,    15] loss: 563.567\n",
      "[1,    34] loss: 474.310\n",
      "[1,    53] loss: 353.671\n",
      "[1,    72] loss: 332.394\n",
      "[1,    91] loss: 323.246\n",
      "----------------------------------------\n",
      "Epoch:  2 / 20\n",
      "----------------------------------------\n",
      "[2,    15] loss: 250.938\n",
      "[2,    34] loss: 317.212\n",
      "[2,    53] loss: 316.564\n",
      "[2,    72] loss: 316.336\n",
      "[2,    91] loss: 318.403\n",
      "----------------------------------------\n",
      "Epoch:  3 / 20\n",
      "----------------------------------------\n",
      "[3,    15] loss: 250.163\n",
      "[3,    34] loss: 316.578\n",
      "[3,    53] loss: 315.171\n",
      "[3,    72] loss: 316.501\n",
      "[3,    91] loss: 314.148\n",
      "----------------------------------------\n",
      "Epoch:  4 / 20\n",
      "----------------------------------------\n",
      "[4,    15] loss: 249.166\n",
      "[4,    34] loss: 315.319\n",
      "[4,    53] loss: 314.252\n",
      "[4,    72] loss: 314.667\n",
      "[4,    91] loss: 314.027\n",
      "----------------------------------------\n",
      "Epoch:  5 / 20\n",
      "----------------------------------------\n",
      "[5,    15] loss: 248.257\n",
      "[5,    34] loss: 313.585\n",
      "[5,    53] loss: 313.405\n",
      "[5,    72] loss: 313.486\n",
      "[5,    91] loss: 313.280\n",
      "----------------------------------------\n",
      "Epoch:  6 / 20\n",
      "----------------------------------------\n",
      "[6,    15] loss: 246.896\n",
      "[6,    34] loss: 313.399\n",
      "[6,    53] loss: 314.146\n",
      "[6,    72] loss: 312.859\n",
      "[6,    91] loss: 312.922\n",
      "----------------------------------------\n",
      "Epoch:  7 / 20\n",
      "----------------------------------------\n",
      "[7,    15] loss: 246.958\n",
      "[7,    34] loss: 312.980\n",
      "[7,    53] loss: 313.026\n",
      "[7,    72] loss: 313.257\n",
      "[7,    91] loss: 312.532\n",
      "----------------------------------------\n",
      "Epoch:  8 / 20\n",
      "----------------------------------------\n",
      "[8,    15] loss: 246.994\n",
      "[8,    34] loss: 312.585\n",
      "[8,    53] loss: 312.414\n",
      "[8,    72] loss: 313.204\n",
      "[8,    91] loss: 312.855\n",
      "----------------------------------------\n",
      "Epoch:  9 / 20\n",
      "----------------------------------------\n",
      "[9,    15] loss: 246.132\n",
      "[9,    34] loss: 312.552\n",
      "[9,    53] loss: 312.718\n",
      "[9,    72] loss: 312.017\n",
      "[9,    91] loss: 312.602\n",
      "----------------------------------------\n",
      "Epoch:  10 / 20\n",
      "----------------------------------------\n",
      "[10,    15] loss: 246.360\n",
      "[10,    34] loss: 312.281\n",
      "[10,    53] loss: 312.490\n",
      "[10,    72] loss: 312.386\n",
      "[10,    91] loss: 311.835\n",
      "----------------------------------------\n",
      "Epoch:  11 / 20\n",
      "----------------------------------------\n",
      "[11,    15] loss: 245.823\n",
      "[11,    34] loss: 313.093\n",
      "[11,    53] loss: 310.962\n",
      "[11,    72] loss: 312.239\n",
      "[11,    91] loss: 311.461\n",
      "----------------------------------------\n",
      "Epoch:  12 / 20\n",
      "----------------------------------------\n",
      "[12,    15] loss: 245.887\n",
      "[12,    34] loss: 313.459\n",
      "[12,    53] loss: 311.276\n",
      "[12,    72] loss: 310.242\n",
      "[12,    91] loss: 311.857\n",
      "----------------------------------------\n",
      "Epoch:  13 / 20\n",
      "----------------------------------------\n",
      "[13,    15] loss: 245.982\n",
      "[13,    34] loss: 311.639\n",
      "[13,    53] loss: 312.063\n",
      "[13,    72] loss: 311.364\n",
      "[13,    91] loss: 311.047\n",
      "----------------------------------------\n",
      "Epoch:  14 / 20\n",
      "----------------------------------------\n",
      "[14,    15] loss: 245.210\n",
      "[14,    34] loss: 311.503\n",
      "[14,    53] loss: 312.201\n",
      "[14,    72] loss: 310.722\n",
      "[14,    91] loss: 311.347\n",
      "----------------------------------------\n",
      "Epoch:  15 / 20\n",
      "----------------------------------------\n",
      "[15,    15] loss: 245.944\n",
      "[15,    34] loss: 311.174\n",
      "[15,    53] loss: 310.728\n",
      "[15,    72] loss: 309.923\n",
      "[15,    91] loss: 311.078\n",
      "----------------------------------------\n",
      "Epoch:  16 / 20\n",
      "----------------------------------------\n",
      "[16,    15] loss: 246.141\n",
      "[16,    34] loss: 310.286\n",
      "[16,    53] loss: 311.854\n",
      "[16,    72] loss: 311.854\n",
      "[16,    91] loss: 310.551\n",
      "\n",
      "Early Stopping!\n",
      "Epoch over epoch loss increased: 314.432 > 314.140\n",
      "Finished Training\n"
     ]
    }
   ],
   "source": [
    "dropout_perc = 0.5\n",
    "net=ProjectNet(dropout_perc, trainset[0][0].shape[0]).to(device)  # check modules and send to CUDA\n",
    "print(f\"Total parameter count: {sum(p.numel()for p in net.parameters())}\")\n",
    "run_epoch(epoch_count=20, net=net)"
   ]
  },
  {
   "attachments": {},
   "cell_type": "markdown",
   "metadata": {},
   "source": [
    "### Saving our model"
   ]
  },
  {
   "cell_type": "code",
   "execution_count": 104,
   "metadata": {},
   "outputs": [],
   "source": [
    "PATH = './model/proj_model_2.pth' # next save"
   ]
  },
  {
   "cell_type": "code",
   "execution_count": 105,
   "metadata": {},
   "outputs": [],
   "source": [
    "torch.save(net.state_dict(), PATH)"
   ]
  },
  {
   "attachments": {},
   "cell_type": "markdown",
   "metadata": {},
   "source": [
    "### Loading our model"
   ]
  },
  {
   "cell_type": "code",
   "execution_count": 106,
   "metadata": {},
   "outputs": [],
   "source": [
    "PATH = './model/proj_model_1.pth' # previous save"
   ]
  },
  {
   "cell_type": "code",
   "execution_count": 269,
   "metadata": {},
   "outputs": [],
   "source": [
    "dropout_perc = 0    # !! DISABLE drop out for testing\n",
    "net2 = ProjectNet(dropout_perc, trainset[0][0].shape[0]).to(device)"
   ]
  },
  {
   "cell_type": "code",
   "execution_count": 270,
   "metadata": {},
   "outputs": [
    {
     "data": {
      "text/plain": [
       "ProjectNet(\n",
       "  (model): Sequential(\n",
       "    (0): Linear(in_features=1110, out_features=1110, bias=True)\n",
       "    (1): ReLU()\n",
       "    (2): Dropout(p=0, inplace=False)\n",
       "    (3): Linear(in_features=1110, out_features=512, bias=True)\n",
       "    (4): ReLU()\n",
       "    (5): Dropout(p=0, inplace=False)\n",
       "    (6): Linear(in_features=512, out_features=512, bias=True)\n",
       "    (7): ReLU()\n",
       "    (8): Dropout(p=0, inplace=False)\n",
       "    (9): Linear(in_features=512, out_features=128, bias=True)\n",
       "    (10): ReLU()\n",
       "    (11): Dropout(p=0, inplace=False)\n",
       "    (12): Linear(in_features=128, out_features=128, bias=True)\n",
       "    (13): ReLU()\n",
       "    (14): Dropout(p=0, inplace=False)\n",
       "    (15): Linear(in_features=128, out_features=32, bias=True)\n",
       "    (16): ReLU()\n",
       "    (17): Dropout(p=0, inplace=False)\n",
       "    (18): Linear(in_features=32, out_features=1, bias=True)\n",
       "  )\n",
       ")"
      ]
     },
     "execution_count": 270,
     "metadata": {},
     "output_type": "execute_result"
    }
   ],
   "source": [
    "net2.load_state_dict(torch.load(PATH))\n",
    "net2.to(device)"
   ]
  },
  {
   "attachments": {},
   "cell_type": "markdown",
   "metadata": {},
   "source": [
    "## Testing our Model"
   ]
  },
  {
   "cell_type": "code",
   "execution_count": 274,
   "metadata": {},
   "outputs": [],
   "source": [
    "batch_size = 320\n",
    "\n",
    "testset = ProjectDataset(data_dir='./data/all_data.csv', data_perc=(1), is_test=True) # consider custom normalize approach for data\n",
    "\n",
    "test_dataloader = torch.utils.data.DataLoader(testset, batch_size=batch_size,\n",
    "                                                shuffle=False, num_workers=1)"
   ]
  },
  {
   "cell_type": "code",
   "execution_count": 278,
   "metadata": {},
   "outputs": [],
   "source": [
    "with torch.no_grad():\n",
    "    for data in test_dataloader:\n",
    "        features = data[0].to(device)\n",
    "        outputs = net2(features)\n",
    "\n",
    "outputs = outputs.detach().cpu().numpy()\n",
    "outputs = (outputs / 15).round() * 15\n",
    "out_data = outputs"
   ]
  },
  {
   "cell_type": "code",
   "execution_count": 276,
   "metadata": {},
   "outputs": [],
   "source": [
    "# final rounding\n",
    "out_data = np.array(out_data)\n",
    "to_export = pd.read_csv('./data/test_public.csv')\n",
    "to_export['TRAVEL_TIME'] = pd.DataFrame(out_data)\n",
    "to_export = to_export.loc[:,['TRIP_ID', 'TRAVEL_TIME']]\n",
    "to_export.to_csv('./data/predictions.csv', index=False)"
   ]
  }
 ],
 "metadata": {
  "kernelspec": {
   "display_name": "Python 3",
   "language": "python",
   "name": "python3"
  },
  "language_info": {
   "codemirror_mode": {
    "name": "ipython",
    "version": 3
   },
   "file_extension": ".py",
   "mimetype": "text/x-python",
   "name": "python",
   "nbconvert_exporter": "python",
   "pygments_lexer": "ipython3",
   "version": "3.8.10"
  },
  "orig_nbformat": 4
 },
 "nbformat": 4,
 "nbformat_minor": 2
}
